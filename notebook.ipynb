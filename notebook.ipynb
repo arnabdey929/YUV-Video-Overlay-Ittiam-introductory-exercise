{
 "cells": [
  {
   "cell_type": "code",
   "execution_count": 1,
   "id": "b8b1b16b",
   "metadata": {},
   "outputs": [],
   "source": [
    "import numpy as np\n",
    "import matplotlib.pyplot as plt"
   ]
  },
  {
   "cell_type": "markdown",
   "id": "6635aa17",
   "metadata": {},
   "source": [
    "Declare the file paths"
   ]
  },
  {
   "cell_type": "code",
   "execution_count": null,
   "id": "d8629ab6",
   "metadata": {},
   "outputs": [],
   "source": [
    "sunflowerPath = \"../Video Overlay Exercise/YUVs/720p25_sunflower.yuv\"\n",
    "logoPath = \"../Video Overlay Exercise/YUVs/Ittiam_160x100_P420_8b.yuv\""
   ]
  },
  {
   "cell_type": "markdown",
   "id": "66f84e8d",
   "metadata": {},
   "source": [
    "Function to read one single Y frame, U frame and V frame"
   ]
  },
  {
   "cell_type": "code",
   "execution_count": 3,
   "id": "7ca10349",
   "metadata": {},
   "outputs": [],
   "source": [
    "def read_yuv420p_frame(file, width, height):\n",
    "    y_size = width * height\n",
    "    uv_size = (width // 2) * (height // 2)\n",
    "\n",
    "    y = np.frombuffer(file.read(y_size), dtype = np.uint8)\n",
    "    u = np.frombuffer(file.read(uv_size), dtype = np.uint8)\n",
    "    v = np.frombuffer(file.read(uv_size), dtype = np.uint8)\n",
    "\n",
    "    if y.size < y_size or u.size < uv_size or v.size < uv_size:\n",
    "        return None\n",
    "\n",
    "    y = y.reshape((height, width))\n",
    "    u = u.reshape((height // 2, width // 2))\n",
    "    v = v.reshape((height // 2, width // 2))\n",
    "\n",
    "    return y, u, v"
   ]
  },
  {
   "cell_type": "markdown",
   "id": "9d26645b",
   "metadata": {},
   "source": [
    "### The function overlay_naive() will paste the foreground frame without any mask\n",
    "### The function overlay_text() masks some part of the foreground frame."
   ]
  },
  {
   "cell_type": "code",
   "execution_count": 4,
   "id": "bd81d422",
   "metadata": {},
   "outputs": [],
   "source": [
    "def overlay_naive(background_frame, foreground_frame, pos_i, pos_j):\n",
    "    h, w = foreground_frame.shape\n",
    "    H, W = background_frame.shape\n",
    "\n",
    "    newframe = background_frame.copy()\n",
    "    if pos_i + h < H and pos_j + w < W:\n",
    "        newframe[pos_i:pos_i+h, pos_j:pos_j+w] = foreground_frame\n",
    "    elif pos_i + h >= H and pos_j + w < W:\n",
    "        i_cut = H - pos_i\n",
    "        newframe[pos_i : pos_i + i_cut, pos_j : pos_j + w] = foreground_frame[0 : i_cut, :]\n",
    "        newframe[0 : h - i_cut, pos_j : pos_j + w] = foreground_frame[i_cut : , :]\n",
    "    elif pos_i + h < H and pos_j + w >= W:\n",
    "        j_cut = W - pos_j\n",
    "        newframe[pos_i : pos_i + h, pos_j : pos_j + j_cut] = foreground_frame[:, 0 : j_cut]\n",
    "        if pos_i + 2*h < H:\n",
    "            newframe[pos_i + h: pos_i + 2*h, 0 : w - j_cut] = foreground_frame[:, j_cut :]\n",
    "        else:\n",
    "            i_cut = H - pos_i - h\n",
    "            newframe[pos_i + h: , 0 : w - j_cut] = foreground_frame[: i_cut, j_cut :]\n",
    "            newframe[0 : h - i_cut, 0 : w - j_cut] = foreground_frame[i_cut : , j_cut : ]\n",
    "    elif pos_i + h >= H and pos_j + w >= W:\n",
    "        i_cut = H - pos_i\n",
    "        j_cut = W - pos_j\n",
    "        newframe[pos_i : pos_i + i_cut, pos_j : pos_j + j_cut] = foreground_frame[0 : i_cut, 0 : j_cut] # 1\n",
    "        newframe[h - i_cut : 2 * h - i_cut, 0 : w - j_cut] = foreground_frame[:, j_cut :] # 2 and 4\n",
    "        newframe[0 : h - i_cut, pos_j : pos_j + j_cut] = foreground_frame[i_cut : , 0 : j_cut] # 3\n",
    "    \n",
    "    return newframe\n",
    "\n",
    "def overlay_text(background_frame, foreground_frame, pos_i, pos_j, mask):\n",
    "    h, w = foreground_frame.shape\n",
    "    H, W = background_frame.shape\n",
    "\n",
    "    newframe = background_frame.copy()\n",
    "    if pos_i + h < H and pos_j + w < W:\n",
    "        newframe[pos_i:pos_i+h, pos_j:pos_j+w] = foreground_frame * mask + background_frame[pos_i:pos_i+h, pos_j:pos_j+w] * (1 - mask)\n",
    "    elif pos_i + h >= H and pos_j + w < W:\n",
    "        i_cut = H - pos_i\n",
    "        newframe[pos_i : pos_i + i_cut, pos_j : pos_j + w] = foreground_frame[0 : i_cut, :] * mask[0 : i_cut, :] + background_frame[pos_i : pos_i + i_cut, pos_j : pos_j + w] * (1 - mask[0 : i_cut, :])\n",
    "        newframe[0 : h - i_cut, pos_j : pos_j + w] = foreground_frame[i_cut : , :] * mask[i_cut : , :] + background_frame[0 : h - i_cut, pos_j : pos_j + w] * (1 - mask[i_cut : , :])\n",
    "    elif pos_i + h < H and pos_j + w >= W:\n",
    "        j_cut = W - pos_j\n",
    "        newframe[pos_i : pos_i + h, pos_j : pos_j + j_cut] = foreground_frame[:, 0 : j_cut] * mask[:, 0 : j_cut] + background_frame[pos_i : pos_i + h, pos_j : pos_j + j_cut] * (1 - mask[:, 0 : j_cut])\n",
    "        if pos_i + 2*h < H:\n",
    "            newframe[pos_i + h: pos_i + 2*h, 0 : w - j_cut] = foreground_frame[:, j_cut :] * mask[:, j_cut :] + background_frame[pos_i + h: pos_i + 2*h, 0 : w - j_cut] * (1 - mask[:, j_cut :])\n",
    "        else:\n",
    "            i_cut = H - pos_i - h\n",
    "            newframe[pos_i + h: , 0 : w - j_cut] = foreground_frame[: i_cut, j_cut :] * mask[: i_cut, j_cut :] + background_frame[pos_i + h: , 0 : w - j_cut] * (1 - mask[: i_cut, j_cut :])\n",
    "            newframe[0 : h - i_cut, 0 : w - j_cut] = foreground_frame[i_cut : , j_cut :] * mask[i_cut : , j_cut :] + background_frame[0 : h - i_cut, 0 : w - j_cut] * (1 - mask[i_cut : , j_cut :])\n",
    "    elif pos_i + h >= H and pos_j + w >= W:\n",
    "        i_cut = H - pos_i\n",
    "        j_cut = W - pos_j\n",
    "        newframe[pos_i : pos_i + i_cut, pos_j : pos_j + j_cut] = foreground_frame[0 : i_cut, 0 : j_cut] * mask[0 : i_cut, 0 : j_cut] + background_frame[pos_i : pos_i + i_cut, pos_j : pos_j + j_cut] * (1 - mask[0 : i_cut, 0 : j_cut]) # 1\n",
    "        newframe[h - i_cut : 2 * h - i_cut, 0 : w - j_cut] = foreground_frame[:, j_cut :] * mask[:, j_cut :] + background_frame[h - i_cut : 2 * h - i_cut, 0 : w - j_cut] * (1 - mask[:, j_cut :])\n",
    "        newframe[0 : h - i_cut, pos_j : pos_j + j_cut] = foreground_frame[i_cut : , 0 : j_cut] * mask[i_cut : , 0 : j_cut] + background_frame[0 : h - i_cut, pos_j : pos_j + j_cut] * (1 - mask[i_cut : , 0 : j_cut])\n",
    "        # newframe[0 : h - i_cut, 0 : w - j_cut] = foreground_frame[i_cut : , j_cut : ] * mask[i_cut : , j_cut : ] + background_frame[0 : h - i_cut, 0 : w - j_cut] * (1 - mask[i_cut : , j_cut : ])\n",
    "    \n",
    "    return newframe"
   ]
  },
  {
   "cell_type": "markdown",
   "id": "95875d4e",
   "metadata": {},
   "source": [
    "Function to get the Y, U and V frames of both background and foreground file"
   ]
  },
  {
   "cell_type": "code",
   "execution_count": 5,
   "id": "e6b4f45b",
   "metadata": {},
   "outputs": [],
   "source": [
    "def extractFrames(sunflowerPath, logoPath, Sunflower_Height, Sunflower_Width, Logo_Height, Logo_Width):\n",
    "    Logo_frames = []\n",
    "    Sunflower_frames = []\n",
    "    with open(logoPath, 'rb') as logoFile:\n",
    "        triplet = read_yuv420p_frame(file=logoFile, width=Logo_Width, height=Logo_Height)\n",
    "        if triplet is not None:\n",
    "            Logo_frames.append(triplet)\n",
    "    with open(sunflowerPath, 'rb') as sunflowerFile:\n",
    "        triplet = read_yuv420p_frame(sunflowerFile, width=Sunflower_Width, height=Sunflower_Height)\n",
    "        while(triplet is not None):\n",
    "            Sunflower_frames.append(triplet)\n",
    "            triplet = read_yuv420p_frame(sunflowerFile, width=Sunflower_Width, height=Sunflower_Height)\n",
    "    \n",
    "    return Sunflower_frames, Logo_frames"
   ]
  },
  {
   "cell_type": "code",
   "execution_count": 9,
   "id": "1feec963",
   "metadata": {},
   "outputs": [],
   "source": [
    "def overlay_image_on_video(Sunflower_Path, Sunflower_Height, Sunflower_Width, Logo_Path, Logo_Height, Logo_Width, i_stride, j_stride):\n",
    "\n",
    "    Sunflower_frames, Logo_frames = extractFrames(Sunflower_Path, Logo_Path, Sunflower_Height, Sunflower_Width, Logo_Height, Logo_Width)\n",
    "    num_frames = len(Sunflower_frames)\n",
    "    logo_Y, logo_U, _ = Logo_frames[0]\n",
    "    mask_Y = 1 - np.ones_like(logo_Y) * (logo_Y >= 225)\n",
    "    mask_UV = 1 - np.ones_like(logo_U) * (logo_U >= 113)\n",
    "\n",
    "    Y_Frames = []\n",
    "    U_Frames = []\n",
    "    V_Frames = []\n",
    "\n",
    "    H, W = Sunflower_Height, Sunflower_Width\n",
    "    h, w = Logo_Height, Logo_Width\n",
    "\n",
    "    i = 0\n",
    "    j = 0\n",
    "    for f in range(num_frames):\n",
    "        # print(f\"f = {f}, i = {i}, j = {j}\")\n",
    "        new_y = overlay_text(background_frame=Sunflower_frames[f][0], foreground_frame=Logo_frames[0][0], pos_i=i, pos_j=j, mask=mask_Y)\n",
    "        new_u = overlay_text(background_frame=Sunflower_frames[f][1], foreground_frame=Logo_frames[0][1], pos_i=i//2, pos_j=j//2, mask=mask_UV)\n",
    "        new_v = overlay_text(background_frame=Sunflower_frames[f][2], foreground_frame=Logo_frames[0][2], pos_i=i//2, pos_j=j//2, mask=mask_UV)\n",
    "        Y_Frames.append(new_y)\n",
    "        U_Frames.append(new_u)\n",
    "        V_Frames.append(new_v)\n",
    "        j += j_stride\n",
    "        i += i_stride\n",
    "        if j >= W:\n",
    "            j = j - W\n",
    "            i += Logo_frames[0][0].shape[0]\n",
    "        if i >= H:\n",
    "            i = i - H\n",
    "    return Y_Frames, U_Frames, V_Frames"
   ]
  },
  {
   "cell_type": "code",
   "execution_count": null,
   "id": "4d7214ad",
   "metadata": {},
   "outputs": [],
   "source": [
    "Y_Frames, U_Frames, V_Frames = overlay_image_on_video(sunflowerPath, 720, 1280, logoPath, 100, 160, i_stride=5, j_stride=5)\n",
    "\n",
    "filename = \"../Video Overlay Exercise/move.yuv\"\n",
    "with open(filename, 'wb') as f:\n",
    "    for y, u, v in zip(Y_Frames, U_Frames, V_Frames):\n",
    "        f.write(y.tobytes())\n",
    "        f.write(u.tobytes())\n",
    "        f.write(v.tobytes())"
   ]
  },
  {
   "cell_type": "markdown",
   "id": "e0a20afa",
   "metadata": {},
   "source": [
    "# Rough"
   ]
  },
  {
   "cell_type": "code",
   "execution_count": 146,
   "id": "eaa38eec",
   "metadata": {},
   "outputs": [],
   "source": [
    "Sunflower_frames, Logo_frames = extractFrames(sunflowerPath, logoPath, 720, 1280, 100, 160)\n",
    "logo_Y, logo_U, logo_V = Logo_frames[0]\n",
    "mask_Y = np.ones_like(logo_Y) * (logo_Y >= 225)\n",
    "mask_UV = np.ones_like(logo_U) * (logo_U >= 113)"
   ]
  },
  {
   "cell_type": "code",
   "execution_count": null,
   "id": "84116d45",
   "metadata": {},
   "outputs": [],
   "source": [
    "new_y = overlay_text(background_frame=Sunflower_frames[31][0], foreground_frame=Logo_frames[0][0], pos_i=620, pos_j=155, mask=mask_Y)\n"
   ]
  },
  {
   "cell_type": "code",
   "execution_count": 135,
   "id": "cdfb5a5d",
   "metadata": {},
   "outputs": [
    {
     "data": {
      "image/png": "[encoded data removed]",
      "text/plain": [
       "<Figure size 640x480 with 1 Axes>"
      ]
     },
     "metadata": {},
     "output_type": "display_data"
    },
    {
     "name": "stdout",
     "output_type": "stream",
     "text": [
      "128\n"
     ]
    }
   ],
   "source": [
    "plt.imshow(logo_V, cmap='gray')\n",
    "plt.show()\n",
    "print(logo_V[0][0])"
   ]
  },
  {
   "cell_type": "code",
   "execution_count": 134,
   "id": "0448e7e0",
   "metadata": {},
   "outputs": [
    {
     "data": {
      "image/png": "[encoded data removed]",
      "text/plain": [
       "<Figure size 640x480 with 1 Axes>"
      ]
     },
     "metadata": {},
     "output_type": "display_data"
    }
   ],
   "source": [
    "mask_V = np.ones_like(logo_V) * (logo_V <= 113)\n",
    "plt.imshow(mask_V, cmap='gray')\n",
    "plt.show()"
   ]
  }
 ],
 "metadata": {
  "kernelspec": {
   "display_name": "py_3_13_5",
   "language": "python",
   "name": "python3"
  },
  "language_info": {
   "codemirror_mode": {
    "name": "ipython",
    "version": 3
   },
   "file_extension": ".py",
   "mimetype": "text/x-python",
   "name": "python",
   "nbconvert_exporter": "python",
   "pygments_lexer": "ipython3",
   "version": "3.13.5"
  }
 },
 "nbformat": 4,
 "nbformat_minor": 5
}
